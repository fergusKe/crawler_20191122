{
 "cells": [
  {
   "cell_type": "markdown",
   "metadata": {},
   "source": [
    "# Beautiful Soup"
   ]
  },
  {
   "cell_type": "markdown",
   "metadata": {},
   "source": [
    "[Beautiful Soup 官方文檔](https://www.crummy.com/software/BeautifulSoup/bs4/doc.zh/)\n",
    "\n",
    "[parsers 介紹](https://www.crummy.com/software/BeautifulSoup/bs4/doc.zh/#id12)\n",
    "\n",
    "[parsers 之間的差別](https://www.crummy.com/software/BeautifulSoup/bs4/doc.zh/#id53)\n",
    "\n",
    "```\n",
    "官方推薦使用 lxml 解析器\n",
    "```"
   ]
  },
  {
   "cell_type": "code",
   "execution_count": 1,
   "metadata": {},
   "outputs": [],
   "source": [
    "from bs4 import BeautifulSoup"
   ]
  },
  {
   "cell_type": "code",
   "execution_count": 2,
   "metadata": {},
   "outputs": [],
   "source": [
    "html_doc = \"\"\"\n",
    "<html>\n",
    "  <head>\n",
    "    <title>網頁標題</title>\n",
    "  </head>\n",
    "  <body>\n",
    "    <div id=\"header\">\n",
    "      <a class=\"logo\" href=\"https://test.com.tw/logo-link\">\n",
    "        PTT\n",
    "      </a>\n",
    "    </div>\n",
    "    <div class=\"images\">\n",
    "      <img src=\"0.png\" />\n",
    "      <img src=\"01.png\" />\n",
    "      <img src=\"02.png\" />\n",
    "      <img src=\"03.png\" />\n",
    "      <img src=\"11.png\" />\n",
    "      <img src=\"12.png\" />\n",
    "      <img src=\"13.png\" />\n",
    "      <img src=\"01111.png\" />\n",
    "    </div>\n",
    "    <div id=\"container\">\n",
    "      <h2 id=\"title\">八卦版</h2>\n",
    "      <div class=\"article a1\">\n",
    "        <h3 class=\"title t1\">文章標題1</h3>\n",
    "        <div class=\"author\">作者1</div>\n",
    "        <div class=\"date\">11/01</div>\n",
    "      </div>\n",
    "      <div class=\"article a2\">\n",
    "        <h3 class=\"title t2\">文章標題2</h3>\n",
    "        <div class=\"author\">作者2</div>\n",
    "        <div class=\"date\">11/02</div>\n",
    "      </div>\n",
    "      <div class=\"article a3\">\n",
    "        <h3 class=\"title t3\">文章標題3</h3>\n",
    "        <div class=\"author\">作者3</div>\n",
    "        <div class=\"date\">11/03</div>\n",
    "      </div>\n",
    "    </div>\n",
    "    <div id=\"footer\">\n",
    "      <p class=\"address\">臺北市信義區</p>\n",
    "      <p class=\"copyright\">&copy; Copyright 2019</p>\n",
    "    </div>\n",
    "  </body>\n",
    "</html>\n",
    "\"\"\""
   ]
  },
  {
   "cell_type": "code",
   "execution_count": 3,
   "metadata": {},
   "outputs": [],
   "source": [
    "soup = BeautifulSoup(html_doc, 'lxml')"
   ]
  },
  {
   "cell_type": "code",
   "execution_count": 4,
   "metadata": {},
   "outputs": [
    {
     "data": {
      "text/plain": [
       "<html>\n",
       "<head>\n",
       "<title>網頁標題</title>\n",
       "</head>\n",
       "<body>\n",
       "<div id=\"header\">\n",
       "<a class=\"logo\" href=\"https://test.com.tw/logo-link\">\n",
       "        PTT\n",
       "      </a>\n",
       "</div>\n",
       "<div class=\"images\">\n",
       "<img src=\"0.png\"/>\n",
       "<img src=\"01.png\"/>\n",
       "<img src=\"02.png\"/>\n",
       "<img src=\"03.png\"/>\n",
       "<img src=\"11.png\"/>\n",
       "<img src=\"12.png\"/>\n",
       "<img src=\"13.png\"/>\n",
       "<img src=\"01111.png\"/>\n",
       "</div>\n",
       "<div id=\"container\">\n",
       "<h2 id=\"title\">八卦版</h2>\n",
       "<div class=\"article a1\">\n",
       "<h3 class=\"title t1\">文章標題1</h3>\n",
       "<div class=\"author\">作者1</div>\n",
       "<div class=\"date\">11/01</div>\n",
       "</div>\n",
       "<div class=\"article a2\">\n",
       "<h3 class=\"title t2\">文章標題2</h3>\n",
       "<div class=\"author\">作者2</div>\n",
       "<div class=\"date\">11/02</div>\n",
       "</div>\n",
       "<div class=\"article a3\">\n",
       "<h3 class=\"title t3\">文章標題3</h3>\n",
       "<div class=\"author\">作者3</div>\n",
       "<div class=\"date\">11/03</div>\n",
       "</div>\n",
       "</div>\n",
       "<div id=\"footer\">\n",
       "<p class=\"address\">臺北市信義區</p>\n",
       "<p class=\"copyright\">© Copyright 2019</p>\n",
       "</div>\n",
       "</body>\n",
       "</html>"
      ]
     },
     "execution_count": 4,
     "metadata": {},
     "output_type": "execute_result"
    }
   ],
   "source": [
    "soup"
   ]
  },
  {
   "cell_type": "code",
   "execution_count": 5,
   "metadata": {},
   "outputs": [
    {
     "name": "stdout",
     "output_type": "stream",
     "text": [
      "<title>網頁標題</title>\n",
      "<a class=\"logo\" href=\"https://test.com.tw/logo-link\">\n",
      "        PTT\n",
      "      </a>\n"
     ]
    }
   ],
   "source": [
    "print(soup.title)\n",
    "print(soup.a)"
   ]
  },
  {
   "cell_type": "code",
   "execution_count": 6,
   "metadata": {},
   "outputs": [
    {
     "name": "stdout",
     "output_type": "stream",
     "text": [
      "網頁標題\n",
      "https://test.com.tw/logo-link\n",
      "https://test.com.tw/logo-link\n"
     ]
    }
   ],
   "source": [
    "print(soup.title.text)\n",
    "print(soup.a.get(\"href\"))\n",
    "print(soup.a[\"href\"])"
   ]
  },
  {
   "cell_type": "code",
   "execution_count": 7,
   "metadata": {},
   "outputs": [
    {
     "name": "stdout",
     "output_type": "stream",
     "text": [
      "<h2 id=\"title\">八卦版</h2>\n",
      "<h2 id=\"title\">八卦版</h2>\n",
      "<h2 id=\"title\">八卦版</h2>\n",
      "<h2 id=\"title\">八卦版</h2>\n",
      "--------\n",
      "<h3 class=\"title t1\">文章標題1</h3>\n",
      "<h3 class=\"title t1\">文章標題1</h3>\n",
      "<h3 class=\"title t1\">文章標題1</h3>\n",
      "<h3 class=\"title t1\">文章標題1</h3>\n",
      "<h3 class=\"title t1\">文章標題1</h3>\n"
     ]
    }
   ],
   "source": [
    "print(soup.find(\"h2\"))\n",
    "print(soup.find(id=\"title\"))\n",
    "print(soup.find(\"h2\", id=\"title\"))\n",
    "print(soup.find(\"h2\", {\"id\": \"title\"}))\n",
    "print('--------')\n",
    "print(soup.find(\"h3\"))\n",
    "print(soup.find(class_=\"title\"))\n",
    "print(soup.find(\"h3\", class_= \"title\"))\n",
    "print(soup.find(\"h3\", {\"class\": \"title\"}))\n",
    "print(soup.find(\"h3\", \"title\")) # 預設 class"
   ]
  },
  {
   "cell_type": "markdown",
   "metadata": {},
   "source": [
    "### 取得多個項目"
   ]
  },
  {
   "cell_type": "code",
   "execution_count": 8,
   "metadata": {},
   "outputs": [
    {
     "name": "stdout",
     "output_type": "stream",
     "text": [
      "[<h3 class=\"title t1\">文章標題1</h3>, <h3 class=\"title t2\">文章標題2</h3>, <h3 class=\"title t3\">文章標題3</h3>]\n"
     ]
    }
   ],
   "source": [
    "# 可將上面任一項目從 find 改成 find_all (id 只會有一個，class 才會有多個)\n",
    "print(soup.find_all(class_=\"title\"))"
   ]
  },
  {
   "cell_type": "code",
   "execution_count": 9,
   "metadata": {},
   "outputs": [
    {
     "name": "stdout",
     "output_type": "stream",
     "text": [
      "[<h3 class=\"title t1\">文章標題1</h3>]\n",
      "[]\n"
     ]
    }
   ],
   "source": [
    "# 如果 class 順序不對就抓不到值\n",
    "print(soup.find_all(class_=\"title t1\"))\n",
    "print(soup.find_all(class_=\"t1 title\"))"
   ]
  },
  {
   "cell_type": "markdown",
   "metadata": {},
   "source": [
    "### 使用 select"
   ]
  },
  {
   "cell_type": "code",
   "execution_count": 10,
   "metadata": {},
   "outputs": [
    {
     "name": "stdout",
     "output_type": "stream",
     "text": [
      "[<h3 class=\"title t1\">文章標題1</h3>, <h3 class=\"title t2\">文章標題2</h3>, <h3 class=\"title t3\">文章標題3</h3>]\n"
     ]
    }
   ],
   "source": [
    "# 使用 css 選擇器的方式做篩選\n",
    "print(soup.select(\".title\"))"
   ]
  },
  {
   "cell_type": "code",
   "execution_count": 11,
   "metadata": {},
   "outputs": [
    {
     "name": "stdout",
     "output_type": "stream",
     "text": [
      "[<h3 class=\"title t1\">文章標題1</h3>]\n",
      "[<h3 class=\"title t1\">文章標題1</h3>]\n"
     ]
    }
   ],
   "source": [
    "# 可以不用管 class 順序\n",
    "print(soup.select(\".t1.title\"))\n",
    "print(soup.select(\".a1.article .t1\"))"
   ]
  },
  {
   "cell_type": "markdown",
   "metadata": {},
   "source": [
    "## 將所有選到的項目一個個取出來"
   ]
  },
  {
   "cell_type": "code",
   "execution_count": 12,
   "metadata": {},
   "outputs": [
    {
     "name": "stdout",
     "output_type": "stream",
     "text": [
      "文章標題1\n",
      "文章標題2\n",
      "文章標題3\n"
     ]
    }
   ],
   "source": [
    "for item in soup.select(\".title\"):\n",
    "    print(item.text)"
   ]
  },
  {
   "cell_type": "markdown",
   "metadata": {},
   "source": [
    "## 使用 re"
   ]
  },
  {
   "cell_type": "code",
   "execution_count": 13,
   "metadata": {},
   "outputs": [
    {
     "name": "stdout",
     "output_type": "stream",
     "text": [
      "[<h3 class=\"title t1\">文章標題1</h3>, <h3 class=\"title t2\">文章標題2</h3>, <h3 class=\"title t3\">文章標題3</h3>]\n"
     ]
    }
   ],
   "source": [
    "import re\n",
    "print(soup.find_all(class_=re.compile(\"tle\")))\n",
    "# print(soup.find_all(class_=re.compile(\"^tle\")))\n",
    "\n",
    "# 利用 regex 找出所有 .png 結尾的圖片\n",
    "# for img in soup.find_all('img', {'src': re.compile('\\.png$')}):\n",
    "#     print(img['src'])\n",
    "    \n",
    "# 利用 regex 找出所有 .png 結尾且含 '0' 的圖片\n",
    "# for img in soup.find_all('img', {'src': re.compile('0.*\\.png$')}):\n",
    "#     print(img['src'])"
   ]
  },
  {
   "cell_type": "markdown",
   "metadata": {},
   "source": [
    "## flask"
   ]
  },
  {
   "cell_type": "code",
   "execution_count": 14,
   "metadata": {},
   "outputs": [
    {
     "name": "stdout",
     "output_type": "stream",
     "text": [
      " * Serving Flask app \"__main__\" (lazy loading)\n",
      " * Environment: production\n",
      "   WARNING: Do not use the development server in a production environment.\n",
      "   Use a production WSGI server instead.\n",
      " * Debug mode: off\n"
     ]
    },
    {
     "name": "stderr",
     "output_type": "stream",
     "text": [
      " * Running on http://127.0.0.1:5000/ (Press CTRL+C to quit)\n",
      "127.0.0.1 - - [22/Nov/2019 10:36:21] \"GET / HTTP/1.1\" 200 -\n",
      "127.0.0.1 - - [22/Nov/2019 10:36:22] \"GET /favicon.ico HTTP/1.1\" 404 -\n"
     ]
    }
   ],
   "source": [
    "# 執行後，伺服器會持續開著\n",
    "# 到瀏覽器開啟 http://127.0.0.1:5000/ 就可以看到網頁\n",
    "from flask import Flask\n",
    "\n",
    "app = Flask(__name__)\n",
    "\n",
    "@app.route(\"/\")\n",
    "def hello():\n",
    "    return \"Hello World!\"\n",
    "\n",
    "if __name__ == \"__main__\":\n",
    "    app.run()"
   ]
  },
  {
   "cell_type": "code",
   "execution_count": 1,
   "metadata": {},
   "outputs": [
    {
     "name": "stdout",
     "output_type": "stream",
     "text": [
      " * Serving Flask app \"__main__\" (lazy loading)\n",
      " * Environment: production\n",
      "   WARNING: Do not use the development server in a production environment.\n",
      "   Use a production WSGI server instead.\n",
      " * Debug mode: off\n"
     ]
    },
    {
     "name": "stderr",
     "output_type": "stream",
     "text": [
      " * Running on http://127.0.0.1:5000/ (Press CTRL+C to quit)\n",
      "127.0.0.1 - - [19/Nov/2019 14:51:27] \"GET / HTTP/1.1\" 200 -\n"
     ]
    }
   ],
   "source": [
    "# 把以下程式放到 .py 上執行\n",
    "# 執行後，伺服器會持續開著\n",
    "# 到瀏覽器開啟 http://127.0.0.1:5000/ 就可以看到網頁\n",
    "from flask import Flask\n",
    "\n",
    "app = Flask(__name__)\n",
    "\n",
    "@app.route(\"/\")\n",
    "def hello():\n",
    "    return \"\"\"\n",
    "    <html>\n",
    "      <head>\n",
    "        <title>網頁標題</title>\n",
    "      </head>\n",
    "      <body>\n",
    "        <div id=\"header\">\n",
    "          <a class=\"logo\" href=\"https://test.com.tw/logo-link\">\n",
    "            PTT\n",
    "          </a>\n",
    "        </div>\n",
    "        <div class=\"images\">\n",
    "          <img src=\"0.png\" />\n",
    "          <img src=\"01.png\" />\n",
    "          <img src=\"02.png\" />\n",
    "          <img src=\"03.png\" />\n",
    "          <img src=\"11.png\" />\n",
    "          <img src=\"12.png\" />\n",
    "          <img src=\"13.png\" />\n",
    "          <img src=\"01111.png\" />\n",
    "        </div>\n",
    "        <div id=\"container\">\n",
    "          <h2 id=\"title\">八卦版</h2>\n",
    "          <div class=\"article a1\">\n",
    "            <h3 class=\"title t1\">文章標題1</h3>\n",
    "            <div class=\"author\">作者1</div>\n",
    "            <div class=\"date\">11/01</div>\n",
    "          </div>\n",
    "          <div class=\"article a2\">\n",
    "            <h3 class=\"title t2\">文章標題2</h3>\n",
    "            <div class=\"author\">作者2</div>\n",
    "            <div class=\"date\">11/02</div>\n",
    "          </div>\n",
    "          <div class=\"article a3\">\n",
    "            <h3 class=\"title t3\">文章標題3</h3>\n",
    "            <div class=\"author\">作者3</div>\n",
    "            <div class=\"date\">11/03</div>\n",
    "          </div>\n",
    "        </div>\n",
    "        <div id=\"footer\">\n",
    "          <p class=\"address\">臺北市信義區</p>\n",
    "          <p class=\"copyright\">&copy; Copyright 2019</p>\n",
    "        </div>\n",
    "      </body>\n",
    "    </html>\n",
    "\"\"\"\n",
    "\n",
    "if __name__ == \"__main__\":\n",
    "    app.run()"
   ]
  },
  {
   "cell_type": "markdown",
   "metadata": {},
   "source": [
    "## 使用 requests 取得網頁上的資訊"
   ]
  },
  {
   "cell_type": "code",
   "execution_count": 15,
   "metadata": {},
   "outputs": [
    {
     "name": "stdout",
     "output_type": "stream",
     "text": [
      "\n",
      "    <html>\n",
      "      <head>\n",
      "        <title>網頁標題</title>\n",
      "      </head>\n",
      "      <body>\n",
      "        <div id=\"header\">\n",
      "          <a class=\"logo\" href=\"https://test.com.tw/logo-link\">\n",
      "            PTT\n",
      "          </a>\n",
      "        </div>\n",
      "        <div class=\"images\">\n",
      "          <img src=\"0.png\" />\n",
      "          <img src=\"01.png\" />\n",
      "          <img src=\"02.png\" />\n",
      "          <img src=\"03.png\" />\n",
      "          <img src=\"11.png\" />\n",
      "          <img src=\"12.png\" />\n",
      "          <img src=\"13.png\" />\n",
      "          <img src=\"01111.png\" />\n",
      "        </div>\n",
      "        <div id=\"container\">\n",
      "          <h2 id=\"title\">八卦版</h2>\n",
      "          <div class=\"article a1\">\n",
      "            <h3 class=\"title t1\">文章標題1</h3>\n",
      "            <div class=\"author\">作者1</div>\n",
      "            <div class=\"date\">11/01</div>\n",
      "          </div>\n",
      "          <div class=\"article a2\">\n",
      "            <h3 class=\"title t2\">文章標題2</h3>\n",
      "            <div class=\"author\">作者2</div>\n",
      "            <div class=\"date\">11/02</div>\n",
      "          </div>\n",
      "          <div class=\"article a3\">\n",
      "            <h3 class=\"title t3\">文章標題3</h3>\n",
      "            <div class=\"author\">作者3</div>\n",
      "            <div class=\"date\">11/03</div>\n",
      "          </div>\n",
      "        </div>\n",
      "        <div id=\"footer\">\n",
      "          <p class=\"address\">臺北市信義區</p>\n",
      "          <p class=\"copyright\">&copy; Copyright 2019</p>\n",
      "        </div>\n",
      "      </body>\n",
      "    </html>\n",
      "\n"
     ]
    }
   ],
   "source": [
    "import requests\n",
    "from bs4 import BeautifulSoup\n",
    "\n",
    "resp = requests.get('http://127.0.0.1:5000/')\n",
    "\n",
    "if resp.status_code == 200:\n",
    "    print(resp.text) # 也可以在 http://127.0.0.1:5000/ 按右鍵『檢視網頁原始碼』"
   ]
  },
  {
   "cell_type": "code",
   "execution_count": 16,
   "metadata": {},
   "outputs": [],
   "source": [
    "soup = BeautifulSoup(resp.text, 'lxml')"
   ]
  },
  {
   "cell_type": "code",
   "execution_count": 17,
   "metadata": {},
   "outputs": [
    {
     "name": "stdout",
     "output_type": "stream",
     "text": [
      "<title>網頁標題</title>\n",
      "<a class=\"logo\" href=\"https://test.com.tw/logo-link\">\n",
      "            PTT\n",
      "          </a>\n",
      "[<h3 class=\"title t1\">文章標題1</h3>, <h3 class=\"title t2\">文章標題2</h3>, <h3 class=\"title t3\">文章標題3</h3>]\n"
     ]
    }
   ],
   "source": [
    "print(soup.title)\n",
    "print(soup.a)\n",
    "print(soup.select(\".title\"))"
   ]
  },
  {
   "cell_type": "markdown",
   "metadata": {},
   "source": [
    "# 作業\n",
    "- 可以試著使用 requests 去爬取其他網頁看看\n",
    "- 再依照上面的方式取得想要的資訊"
   ]
  },
  {
   "cell_type": "code",
   "execution_count": null,
   "metadata": {},
   "outputs": [],
   "source": []
  }
 ],
 "metadata": {
  "kernelspec": {
   "display_name": "Python 3",
   "language": "python",
   "name": "python3"
  },
  "language_info": {
   "codemirror_mode": {
    "name": "ipython",
    "version": 3
   },
   "file_extension": ".py",
   "mimetype": "text/x-python",
   "name": "python",
   "nbconvert_exporter": "python",
   "pygments_lexer": "ipython3",
   "version": "3.7.3"
  }
 },
 "nbformat": 4,
 "nbformat_minor": 2
}
