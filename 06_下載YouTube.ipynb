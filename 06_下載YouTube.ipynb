{
 "cells": [
  {
   "cell_type": "markdown",
   "metadata": {},
   "source": [
    "# 使用套件 pytube 下載 youtube 影片\n",
    "[pytube 官方文件](https://python-pytube.readthedocs.io/en/latest/#)"
   ]
  },
  {
   "cell_type": "code",
   "execution_count": 1,
   "metadata": {},
   "outputs": [],
   "source": [
    "# 如果有沒有安裝的套件記得要先安裝\n",
    "# 如: pip install pytube\n",
    "from pytube import YouTube"
   ]
  },
  {
   "cell_type": "code",
   "execution_count": 2,
   "metadata": {},
   "outputs": [
    {
     "data": {
      "text/plain": [
       "'/Users/kejingtai/Desktop/北護/crawler_20191122/【桃貴安親班2：健康教育課】蔡桃貴X反骨瑋哥，蔡桃貴上到崩潰，罷課啦！.mp4'"
      ]
     },
     "execution_count": 2,
     "metadata": {},
     "output_type": "execute_result"
    }
   ],
   "source": [
    "# 下載影片\n",
    "yt = YouTube('https://www.youtube.com/watch?v=ZHHK3y49FI0')\n",
    "yt.streams.first().download()"
   ]
  },
  {
   "cell_type": "code",
   "execution_count": 3,
   "metadata": {},
   "outputs": [
    {
     "name": "stdout",
     "output_type": "stream",
     "text": [
      "【桃貴安親班#2：健康教育課】蔡桃貴X反骨瑋哥，蔡桃貴上到崩潰，罷課啦！\n"
     ]
    }
   ],
   "source": [
    "# 取得標題\n",
    "print(yt.title)"
   ]
  },
  {
   "cell_type": "code",
   "execution_count": 4,
   "metadata": {},
   "outputs": [
    {
     "name": "stdout",
     "output_type": "stream",
     "text": [
      "[<Stream: itag=\"22\" mime_type=\"video/mp4\" res=\"720p\" fps=\"30fps\" vcodec=\"avc1.64001F\" acodec=\"mp4a.40.2\">, <Stream: itag=\"43\" mime_type=\"video/webm\" res=\"360p\" fps=\"30fps\" vcodec=\"vp8.0\" acodec=\"vorbis\">, <Stream: itag=\"18\" mime_type=\"video/mp4\" res=\"360p\" fps=\"30fps\" vcodec=\"avc1.42001E\" acodec=\"mp4a.40.2\">, <Stream: itag=\"137\" mime_type=\"video/mp4\" res=\"1080p\" fps=\"30fps\" vcodec=\"avc1.640028\">, <Stream: itag=\"248\" mime_type=\"video/webm\" res=\"1080p\" fps=\"30fps\" vcodec=\"vp9\">, <Stream: itag=\"299\" mime_type=\"video/mp4\" res=\"1080p\" fps=\"60fps\" vcodec=\"avc1.64002a\">, <Stream: itag=\"303\" mime_type=\"video/webm\" res=\"1080p\" fps=\"60fps\" vcodec=\"vp9\">, <Stream: itag=\"399\" mime_type=\"video/mp4\" res=\"None\" fps=\"30fps\" vcodec=\"av01.0.09M.08\">, <Stream: itag=\"136\" mime_type=\"video/mp4\" res=\"720p\" fps=\"30fps\" vcodec=\"avc1.4d401f\">, <Stream: itag=\"247\" mime_type=\"video/webm\" res=\"720p\" fps=\"30fps\" vcodec=\"vp9\">, <Stream: itag=\"298\" mime_type=\"video/mp4\" res=\"720p\" fps=\"60fps\" vcodec=\"avc1.4d4020\">, <Stream: itag=\"302\" mime_type=\"video/webm\" res=\"720p\" fps=\"60fps\" vcodec=\"vp9\">, <Stream: itag=\"398\" mime_type=\"video/mp4\" res=\"None\" fps=\"30fps\" vcodec=\"av01.0.08M.08\">, <Stream: itag=\"135\" mime_type=\"video/mp4\" res=\"480p\" fps=\"30fps\" vcodec=\"avc1.4d401f\">, <Stream: itag=\"244\" mime_type=\"video/webm\" res=\"480p\" fps=\"30fps\" vcodec=\"vp9\">, <Stream: itag=\"397\" mime_type=\"video/mp4\" res=\"None\" fps=\"30fps\" vcodec=\"av01.0.04M.08\">, <Stream: itag=\"134\" mime_type=\"video/mp4\" res=\"360p\" fps=\"30fps\" vcodec=\"avc1.4d401e\">, <Stream: itag=\"243\" mime_type=\"video/webm\" res=\"360p\" fps=\"30fps\" vcodec=\"vp9\">, <Stream: itag=\"396\" mime_type=\"video/mp4\" res=\"None\" fps=\"30fps\" vcodec=\"av01.0.01M.08\">, <Stream: itag=\"133\" mime_type=\"video/mp4\" res=\"240p\" fps=\"30fps\" vcodec=\"avc1.4d4015\">, <Stream: itag=\"242\" mime_type=\"video/webm\" res=\"240p\" fps=\"30fps\" vcodec=\"vp9\">, <Stream: itag=\"395\" mime_type=\"video/mp4\" res=\"None\" fps=\"30fps\" vcodec=\"av01.0.00M.08\">, <Stream: itag=\"160\" mime_type=\"video/mp4\" res=\"144p\" fps=\"30fps\" vcodec=\"avc1.4d400c\">, <Stream: itag=\"278\" mime_type=\"video/webm\" res=\"144p\" fps=\"30fps\" vcodec=\"vp9\">, <Stream: itag=\"394\" mime_type=\"video/mp4\" res=\"None\" fps=\"30fps\" vcodec=\"av01.0.00M.08\">, <Stream: itag=\"140\" mime_type=\"audio/mp4\" abr=\"128kbps\" acodec=\"mp4a.40.2\">, <Stream: itag=\"249\" mime_type=\"audio/webm\" abr=\"50kbps\" acodec=\"opus\">, <Stream: itag=\"250\" mime_type=\"audio/webm\" abr=\"70kbps\" acodec=\"opus\">, <Stream: itag=\"251\" mime_type=\"audio/webm\" abr=\"160kbps\" acodec=\"opus\">]\n"
     ]
    }
   ],
   "source": [
    "# 取得所有的影片類型\n",
    "# pytube 可以從 youtube 取得很多類型的檔案，例如: mp3, mp4, 360p, 720p\n",
    "print(yt.streams.all())"
   ]
  },
  {
   "cell_type": "code",
   "execution_count": 5,
   "metadata": {},
   "outputs": [
    {
     "name": "stdout",
     "output_type": "stream",
     "text": [
      "[<Stream: itag=\"22\" mime_type=\"video/mp4\" res=\"720p\" fps=\"30fps\" vcodec=\"avc1.64001F\" acodec=\"mp4a.40.2\">]\n"
     ]
    }
   ],
   "source": [
    "# 使用 filter 找出符合條件的影片，如: mp4, 720p\n",
    "print(yt.streams.filter(subtype='mp4', res='720p', progressive=True).all())"
   ]
  },
  {
   "cell_type": "code",
   "execution_count": 6,
   "metadata": {},
   "outputs": [
    {
     "data": {
      "text/plain": [
       "'download/【桃貴安親班2：健康教育課】蔡桃貴X反骨瑋哥，蔡桃貴上到崩潰，罷課啦！.mp4'"
      ]
     },
     "execution_count": 6,
     "metadata": {},
     "output_type": "execute_result"
    }
   ],
   "source": [
    "# 上面下載的影片會直接放在當前目錄下\n",
    "# 我們希望可以直接將影片放到特定資料夾位置，比較方便整理\n",
    "# 可是如果資料夾還沒建立，程式找不到目錄就會報錯\n",
    "# 因此使用 os.path.isdir 判斷資料夾存不存在\n",
    "# 如果資料夾不存在的話，使用 os.mkdir 建立資料夾\n",
    "\n",
    "import os\n",
    "\n",
    "# 指定下載位置\n",
    "file_dir = 'download'\n",
    "\n",
    "# 判斷資料夾存不存\n",
    "if not os.path.isdir(file_dir):\n",
    "#     建立資料夾\n",
    "    os.mkdir(file_dir)\n",
    "    \n",
    "yt.streams.filter(subtype='mp4', res='360p', progressive=True).first().download(file_dir)"
   ]
  },
  {
   "cell_type": "markdown",
   "metadata": {},
   "source": [
    "# 常用語法"
   ]
  },
  {
   "cell_type": "code",
   "execution_count": 30,
   "metadata": {},
   "outputs": [
    {
     "data": {
      "text/plain": [
       "2"
      ]
     },
     "execution_count": 30,
     "metadata": {},
     "output_type": "execute_result"
    }
   ],
   "source": [
    "# 使用 find 找出字串 abcde 中 c 所在的位置\n",
    "'abcde'.find('c')\n",
    "\n",
    "# 因為程式是從0開始計算的\n",
    "# a -> 0\n",
    "# b -> 1\n",
    "# c -> 2\n",
    "# 因此結果為 2"
   ]
  },
  {
   "cell_type": "code",
   "execution_count": 7,
   "metadata": {},
   "outputs": [
    {
     "data": {
      "text/plain": [
       "-1"
      ]
     },
     "execution_count": 7,
     "metadata": {},
     "output_type": "execute_result"
    }
   ],
   "source": [
    "# 找不到的話會回傳 -1\n",
    "'abcde'.find('z')"
   ]
  },
  {
   "cell_type": "code",
   "execution_count": 31,
   "metadata": {},
   "outputs": [
    {
     "name": "stdout",
     "output_type": "stream",
     "text": [
      "這是gif\n"
     ]
    }
   ],
   "source": [
    "# 判斷照片是否為.gif\n",
    "\n",
    "# 從上一個範例我們知道可以透過 find 找出特定字串的位置\n",
    "# 在這邊我們就可以用來尋找網址裡面有沒有包含 .gif\n",
    "# 因為找不到的值會是 -1，所以只要結果是比 -1 大的值都代表有找到內容\n",
    "\n",
    "if '/yts/img/pixel-vfl3z5WfW.gif'.find('.gif') > -1:\n",
    "    print('這是gif')"
   ]
  },
  {
   "cell_type": "code",
   "execution_count": 9,
   "metadata": {},
   "outputs": [
    {
     "name": "stdout",
     "output_type": "stream",
     "text": [
      "['', 'yts', 'img', 'pixel-vfl3z5WfW.gif']\n",
      "pixel-vfl3z5WfW.gif\n"
     ]
    }
   ],
   "source": [
    "# 取出網址最後一個 / 右邊的檔名\n",
    "\n",
    "# 在網址的結構常常會有很多層，每一層都會有 / 隔開\n",
    "# 可是我們不想去管他的路徑，只想知道最後一部分的檔名\n",
    "# split 文件: https://www.runoob.com/python3/python3-string-split.html\n",
    "\n",
    "link = '/yts/img/pixel-vfl3z5WfW.gif'\n",
    "\n",
    "# 透過 split 將字串中包含 / 的部分切開\n",
    "print(link.split('/'))\n",
    "\n",
    "# 我們要的檔名在最後一段，所以使用 [-1] 就可以取到陣列的最後一筆\n",
    "print(link.split('/')[-1])"
   ]
  },
  {
   "cell_type": "markdown",
   "metadata": {},
   "source": [
    "# 抓取 youtube 搜尋結果的內容"
   ]
  },
  {
   "cell_type": "markdown",
   "metadata": {},
   "source": [
    "### 載入套件"
   ]
  },
  {
   "cell_type": "code",
   "execution_count": 11,
   "metadata": {},
   "outputs": [],
   "source": [
    "import os\n",
    "import requests\n",
    "from bs4 import BeautifulSoup\n",
    "from pytube import YouTube"
   ]
  },
  {
   "cell_type": "markdown",
   "metadata": {},
   "source": [
    "### 將搜尋『蔡桃貴』的結果頁抓回來\n",
    "[https://www.youtube.com/results?search_query=蔡桃貴](https://www.youtube.com/results?search_query=蔡桃貴)\n",
    "\n",
    "從網址我們可以知道 search_query 後面的參數就是我們搜尋的關鍵字\n",
    "\n",
    "所以只要改變這個參數，就可以拿到不同搜尋結果的資料"
   ]
  },
  {
   "cell_type": "code",
   "execution_count": 12,
   "metadata": {},
   "outputs": [],
   "source": [
    "query = '蔡桃貴'\n",
    "url = 'https://www.youtube.com/results?search_query=' + query\n",
    "resp = requests.get(url)\n",
    "soup = BeautifulSoup(resp.text, 'lxml')"
   ]
  },
  {
   "cell_type": "markdown",
   "metadata": {},
   "source": [
    "### 取出資訊並下載圖片與影片到 download 資料夾"
   ]
  },
  {
   "cell_type": "code",
   "execution_count": 14,
   "metadata": {},
   "outputs": [
    {
     "name": "stdout",
     "output_type": "stream",
     "text": [
      "title =  【蔡桃貴成長日記#42】私底下的惡魔貴貴！是搗蛋大師！\n",
      "url =  https://www.youtube.com/watch?v=gvbIuuZO-KE\n",
      "img =  https://i.ytimg.com/vi/gvbIuuZO-KE/hqdefault.jpg\n",
      "====\n",
      "title =  【蔡桃貴】在地上蠕動的詭異父子檔！(1Y4M14D)\n",
      "url =  https://www.youtube.com/watch?v=fjYOblL2pOg\n",
      "img =  https://i.ytimg.com/vi/fjYOblL2pOg/hqdefault.jpg\n",
      "====\n",
      "title =  【蔡桃貴成長日記#41】第一次畫畫，把整個家都毀了！蔡阿嘎大崩潰！ 【蔡阿嘎Life】\n",
      "url =  https://www.youtube.com/watch?v=-vQVZQNNvEY\n",
      "img =  https://i.ytimg.com/vi/-vQVZQNNvEY/hqdefault.jpg\n",
      "====\n",
      "title =  【蔡桃貴成長日記#33】1歲就超會講話！簡直神童啊！\n",
      "url =  https://www.youtube.com/watch?v=CTymmkQ2wps\n",
      "img =  https://i.ytimg.com/vi/CTymmkQ2wps/hqdefault.jpg\n",
      "====\n",
      "title =  【桃貴安親班#2：健康教育課】蔡桃貴X反骨瑋哥，蔡桃貴上到崩潰，罷課啦！\n",
      "url =  https://www.youtube.com/watch?v=ZHHK3y49FI0\n",
      "img =  https://i.ytimg.com/vi/ZHHK3y49FI0/hqdefault.jpg\n",
      "====\n",
      "title =  【蔡桃貴】跟阿爸嘴對嘴吃餅乾！好害羞啊！(1Y4M10D)\n",
      "url =  https://www.youtube.com/watch?v=XlvcELt972U\n",
      "img =  https://i.ytimg.com/vi/XlvcELt972U/hqdefault.jpg\n",
      "====\n",
      "title =  【蔡桃貴】自己爬上床喝捏捏睡覺！真的長大了！(1Y3M30D)\n",
      "url =  https://www.youtube.com/watch?v=IPfIJcAAsmk\n",
      "img =  https://i.ytimg.com/vi/IPfIJcAAsmk/hqdefault.jpg\n",
      "====\n",
      "title =  【蔡桃貴】超可愛接龍大師，蔡阿嘎說「桃」自己就接「貴」！(1Y3M13D)\n",
      "url =  https://www.youtube.com/watch?v=1LsyEp0uQ5w\n",
      "img =  https://i.ytimg.com/vi/1LsyEp0uQ5w/hqdefault.jpg\n",
      "====\n",
      "title =  【蔡阿嘎10週年Q&A #5】員工年薪破百萬？福利年終好嗎？幕後人員集體爆料！\n",
      "url =  https://www.youtube.com/watch?v=7Bb_iA5rBQM\n",
      "img =  https://i.ytimg.com/vi/7Bb_iA5rBQM/hqdefault.jpg\n",
      "====\n",
      "title =  【蔡桃貴成長日記#40】一歲後打針，哭到大崩潰啦！ 前一秒還很興奮....\n",
      "url =  https://www.youtube.com/watch?v=YSWx6YBlIAA\n",
      "img =  https://i.ytimg.com/vi/YSWx6YBlIAA/hqdefault.jpg\n",
      "====\n",
      "title =  【票選】蔡桃貴弟(妹)的外號，由你決定！蔡波能、蔡單、蔡奇亞、蔡桃湯？【蔡阿嘎 二伯's 二寶日記】\n",
      "url =  https://www.youtube.com/watch?v=Xc1GnL_CmNg\n",
      "img =  https://i.ytimg.com/vi/Xc1GnL_CmNg/hqdefault.jpg\n",
      "====\n",
      "title =  【蔡阿嘎新手爸媽日記#44】讓嘎妹照顧蔡桃貴一整天！貴貴大崩潰啦！\n",
      "url =  https://www.youtube.com/watch?v=PtT2j5Ca0cM\n",
      "img =  https://i.ytimg.com/vi/PtT2j5Ca0cM/hqdefault.jpg\n",
      "====\n",
      "title =  【蔡桃貴成長日記#36】第一次坐飛機就 挑戰14小時，有坐到崩潰嗎？\n",
      "url =  https://www.youtube.com/watch?v=mrsCCJ3ddwE\n",
      "img =  https://i.ytimg.com/vi/mrsCCJ3ddwE/hqdefault.jpg\n",
      "====\n",
      "title =  【蔡桃貴成長日記#37】天啊！得腸病毒了，在家被隔離了七天不能出門！\n",
      "url =  https://www.youtube.com/watch?v=WGIDDfNr0GQ\n",
      "img =  https://i.ytimg.com/vi/WGIDDfNr0GQ/hqdefault.jpg\n",
      "====\n",
      "title =  【蔡桃貴成長日記#26】人生第一次當小花童，獻給HowHow婚禮了！feat.上班不要看.白癡公主.安啾.阿滴\n",
      "url =  https://www.youtube.com/watch?v=sM9g9KId68w\n",
      "img =  https://i.ytimg.com/vi/sM9g9KId68w/hqdefault.jpg\n",
      "====\n",
      "title =  【蔡阿嘎新手爸媽日記#45】開箱蔡桃貴行李箱！嬰兒出國都帶什麼？\n",
      "url =  https://www.youtube.com/watch?v=q6-0a11sCas\n",
      "img =  https://i.ytimg.com/vi/q6-0a11sCas/hqdefault.jpg\n",
      "====\n",
      "title =  【蔡桃貴成長日記#21】試喝綠茶、麥茶、果菜汁，喝到臉歪掉！\n",
      "url =  https://www.youtube.com/watch?v=bEUxnlWgneI\n",
      "img =  https://i.ytimg.com/vi/bEUxnlWgneI/hqdefault.jpg\n",
      "====\n",
      "title =  【蔡桃貴成長日記#30】一生一次的抓周！真的抓到YouTuber啦！\n",
      "url =  https://www.youtube.com/watch?v=FrlxQC7Bx1w\n",
      "img =  https://i.ytimg.com/vi/FrlxQC7Bx1w/hqdefault.jpg\n",
      "====\n",
      "title =  【蔡桃貴】手指愛心超會比！愛尼～融化了！(1Y4M3D)\n",
      "url =  https://www.youtube.com/watch?v=ty6vFnMSeQk\n",
      "img =  https://i.ytimg.com/vi/ty6vFnMSeQk/hqdefault.jpg\n",
      "====\n",
      "title =  【蔡桃貴成長日記#35】讓蔡桃貴自己吃飯！讓人崩潰畫面出現！\n",
      "url =  https://www.youtube.com/watch?v=_cmUp5NrR0s\n",
      "img =  https://i.ytimg.com/vi/_cmUp5NrR0s/hqdefault.jpg\n",
      "====\n",
      "title =  【蔡阿嘎新手爸媽日記#38】爸爸自己帶小孩一整天，蔡桃貴崩潰啦！\n",
      "url =  https://www.youtube.com/watch?v=xhQ8RLW-6CI\n",
      "img =  https://i.ytimg.com/vi/xhQ8RLW-6CI/hqdefault.jpg\n",
      "====\n",
      "title =  【環島挑戰號#6】蔡桃貴X蔡阿嘎X妞妞TV X 彼得爸與蘇珊媽：台中100人寶寶爬行大賽！\n",
      "url =  https://www.youtube.com/watch?v=u7-yu2yWxmk\n",
      "img =  https://i.ytimg.com/vi/u7-yu2yWxmk/hqdefault.jpg\n",
      "====\n",
      "title =  【蔡桃貴成長日記#34】被蔡英文總統召見，去總統官邸撒野啦！蔡阿嘎在一旁嚇死！\n",
      "url =  https://www.youtube.com/watch?v=RAZLMuaxjUI\n",
      "img =  https://i.ytimg.com/vi/RAZLMuaxjUI/hqdefault.jpg\n",
      "====\n",
      "title =  【蔡桃貴成長日記#38】美國行Vlog，連外國人都被萌翻！\n",
      "url =  https://www.youtube.com/watch?v=XCwEPTzmLfU\n",
      "img =  https://i.ytimg.com/vi/XCwEPTzmLfU/hqdefault.jpg\n",
      "====\n",
      "title =  【蔡桃貴】姑姑的照片好恐怖，是「鬼」！(1Y3M27D)\n",
      "url =  https://www.youtube.com/watch?v=8g_cVtkaySI\n",
      "img =  https://i.ytimg.com/vi/8g_cVtkaySI/hqdefault.jpg\n",
      "====\n",
      "title =  【桃貴安親班#1：英文課】蔡桃貴X阿滴X滴妹，有辦法學會一個英文單字嗎？\n",
      "url =  https://www.youtube.com/watch?v=oHlII0GsxSw\n",
      "img =  https://i.ytimg.com/vi/oHlII0GsxSw/hqdefault.jpg\n",
      "====\n",
      "title =  【蔡桃貴】偷玩姑姑口紅，學化妝！(1Y4M6D)\n",
      "url =  https://www.youtube.com/watch?v=DQP5P6I9iv4\n",
      "img =  https://i.ytimg.com/vi/DQP5P6I9iv4/hqdefault.jpg\n",
      "====\n",
      "title =  蔡桃貴預言：是弟弟還是妹妹？大家一起猜猜看！【蔡阿嘎 二伯's 二寶日記】\n",
      "url =  https://www.youtube.com/watch?v=U-7HcjgrrwI\n",
      "img =  https://i.ytimg.com/vi/U-7HcjgrrwI/hqdefault.jpg\n",
      "====\n"
     ]
    },
    {
     "ename": "FileNotFoundError",
     "evalue": "[Errno 2] No such file or directory: 'download/images/蔡阿嘎快問快答-蔡桃貴最喜歡吃◯◯?//農純鄉手牽手親子動.jpg'",
     "output_type": "error",
     "traceback": [
      "\u001b[0;31m---------------------------------------------------------------------------\u001b[0m",
      "\u001b[0;31mFileNotFoundError\u001b[0m                         Traceback (most recent call last)",
      "\u001b[0;32m<ipython-input-14-f727fb6bf366>\u001b[0m in \u001b[0;36m<module>\u001b[0;34m\u001b[0m\n\u001b[1;32m     26\u001b[0m     \u001b[0mr\u001b[0m \u001b[0;34m=\u001b[0m \u001b[0mrequests\u001b[0m\u001b[0;34m.\u001b[0m\u001b[0mget\u001b[0m\u001b[0;34m(\u001b[0m\u001b[0mimg\u001b[0m\u001b[0;34m)\u001b[0m\u001b[0;34m\u001b[0m\u001b[0;34m\u001b[0m\u001b[0m\n\u001b[1;32m     27\u001b[0m     \u001b[0mfilename\u001b[0m \u001b[0;34m=\u001b[0m \u001b[0mtitle\u001b[0m \u001b[0;34m+\u001b[0m \u001b[0;34m'.jpg'\u001b[0m \u001b[0;31m# 下載的照片名稱\u001b[0m\u001b[0;34m\u001b[0m\u001b[0;34m\u001b[0m\u001b[0m\n\u001b[0;32m---> 28\u001b[0;31m     \u001b[0;32mwith\u001b[0m \u001b[0mopen\u001b[0m\u001b[0;34m(\u001b[0m\u001b[0mos\u001b[0m\u001b[0;34m.\u001b[0m\u001b[0mpath\u001b[0m\u001b[0;34m.\u001b[0m\u001b[0mjoin\u001b[0m\u001b[0;34m(\u001b[0m\u001b[0mimages_dir\u001b[0m\u001b[0;34m,\u001b[0m \u001b[0mfilename\u001b[0m\u001b[0;34m)\u001b[0m\u001b[0;34m,\u001b[0m \u001b[0;34m'wb'\u001b[0m\u001b[0;34m)\u001b[0m \u001b[0;32mas\u001b[0m \u001b[0mf\u001b[0m\u001b[0;34m:\u001b[0m\u001b[0;34m\u001b[0m\u001b[0;34m\u001b[0m\u001b[0m\n\u001b[0m\u001b[1;32m     29\u001b[0m         \u001b[0mf\u001b[0m\u001b[0;34m.\u001b[0m\u001b[0mwrite\u001b[0m\u001b[0;34m(\u001b[0m\u001b[0mr\u001b[0m\u001b[0;34m.\u001b[0m\u001b[0mcontent\u001b[0m\u001b[0;34m)\u001b[0m\u001b[0;34m\u001b[0m\u001b[0;34m\u001b[0m\u001b[0m\n\u001b[1;32m     30\u001b[0m \u001b[0;34m\u001b[0m\u001b[0m\n",
      "\u001b[0;31mFileNotFoundError\u001b[0m: [Errno 2] No such file or directory: 'download/images/蔡阿嘎快問快答-蔡桃貴最喜歡吃◯◯?//農純鄉手牽手親子動.jpg'"
     ]
    }
   ],
   "source": [
    "hostname = 'https://www.youtube.com'\n",
    "file_dir = 'download' # 下載的檔案都放到 download 資料夾\n",
    "images_dir = file_dir + '/images'  # 將圖片放到 download/images 資料夾\n",
    "video_dir = file_dir + '/video'  # 將影片放到 download/video 資料夾\n",
    "\n",
    "for item in soup.select('.yt-lockup-video'):\n",
    "    title = item.select('.yt-lockup-title a')[0].text\n",
    "    pathname = item.select('.yt-lockup-title a')[0]['href']\n",
    "    img_element = item.select('.yt-thumb-simple img')[0]\n",
    "    \n",
    "    # 有些網址放在src，有些在data-thumb裡面\n",
    "    if img_element['src'] != '/yts/img/pixel-vfl3z5WfW.gif':\n",
    "        img = img_element['src'].split('?')[0]\n",
    "    else:\n",
    "        img = img_element['data-thumb'].split('?')[0]\n",
    "    \n",
    "    # 如果資料夾不存在就先建立\n",
    "    if not os.path.isdir(file_dir):  \n",
    "        os.mkdir(file_dir)\n",
    "    if not os.path.isdir(images_dir):\n",
    "        os.mkdir(images_dir)\n",
    "    if not os.path.isdir(video_dir):\n",
    "        os.mkdir(video_dir)\n",
    "\n",
    "    # 下載圖片\n",
    "    r = requests.get(img)\n",
    "    filename = title + '.jpg' # 設定下載的照片名稱\n",
    "    with open(os.path.join(images_dir, filename), 'wb') as f:\n",
    "        f.write(r.content) \n",
    "    \n",
    "    # 下載影片\n",
    "    url = hostname + pathname # 影片的網址\n",
    "    yt = YouTube(url)\n",
    "    yt.streams.filter(subtype='mp4', res='360p', progressive=True).first().download(video_dir)  #下載mp4,360p影片\n",
    "    \n",
    "    print('title = ', title)\n",
    "    print('url = ', url)\n",
    "    print('img = ', img)\n",
    "    print('====')"
   ]
  },
  {
   "cell_type": "markdown",
   "metadata": {},
   "source": [
    "## 作業\n",
    "- 抓取發布時間與觀看次數"
   ]
  },
  {
   "cell_type": "code",
   "execution_count": null,
   "metadata": {},
   "outputs": [],
   "source": []
  }
 ],
 "metadata": {
  "kernelspec": {
   "display_name": "Python 3",
   "language": "python",
   "name": "python3"
  },
  "language_info": {
   "codemirror_mode": {
    "name": "ipython",
    "version": 3
   },
   "file_extension": ".py",
   "mimetype": "text/x-python",
   "name": "python",
   "nbconvert_exporter": "python",
   "pygments_lexer": "ipython3",
   "version": "3.7.3"
  }
 },
 "nbformat": 4,
 "nbformat_minor": 2
}
