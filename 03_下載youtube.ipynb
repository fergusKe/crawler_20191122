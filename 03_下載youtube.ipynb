{
 "cells": [
  {
   "cell_type": "markdown",
   "metadata": {},
   "source": [
    "# pytube\n",
    "[pytube 官方文件](https://python-pytube.readthedocs.io/en/latest/#)"
   ]
  },
  {
   "cell_type": "code",
   "execution_count": 21,
   "metadata": {},
   "outputs": [],
   "source": [
    "# 如果有沒有安裝的套件記得要先安裝\n",
    "# 如: pip install pytube\n",
    "from pytube import YouTube"
   ]
  },
  {
   "cell_type": "code",
   "execution_count": 22,
   "metadata": {},
   "outputs": [
    {
     "data": {
      "text/plain": [
       "'/Users/kejingtai/Desktop/北護/crawler_20191122/【桃貴安親班2：健康教育課】蔡桃貴X反骨瑋哥，蔡桃貴上到崩潰，罷課啦！.mp4'"
      ]
     },
     "execution_count": 22,
     "metadata": {},
     "output_type": "execute_result"
    }
   ],
   "source": [
    "# 下載影片\n",
    "yt = YouTube('https://www.youtube.com/watch?v=ZHHK3y49FI0')\n",
    "yt.streams.first().download()"
   ]
  },
  {
   "cell_type": "code",
   "execution_count": 40,
   "metadata": {},
   "outputs": [
    {
     "name": "stdout",
     "output_type": "stream",
     "text": [
      "教你成為獨立自主的Youtuber，反骨幼幼班上課囉!feat.蔡桃貴 蔡阿嘎│WACKYBOYS│反骨男孩│\n",
      "[<Stream: itag=\"22\" mime_type=\"video/mp4\" res=\"720p\" fps=\"30fps\" vcodec=\"avc1.64001F\" acodec=\"mp4a.40.2\">, <Stream: itag=\"18\" mime_type=\"video/mp4\" res=\"360p\" fps=\"30fps\" vcodec=\"avc1.42001E\" acodec=\"mp4a.40.2\">, <Stream: itag=\"137\" mime_type=\"video/mp4\" res=\"1080p\" fps=\"30fps\" vcodec=\"avc1.640028\">, <Stream: itag=\"248\" mime_type=\"video/webm\" res=\"1080p\" fps=\"30fps\" vcodec=\"vp9\">, <Stream: itag=\"136\" mime_type=\"video/mp4\" res=\"720p\" fps=\"30fps\" vcodec=\"avc1.4d401f\">, <Stream: itag=\"247\" mime_type=\"video/webm\" res=\"720p\" fps=\"30fps\" vcodec=\"vp9\">, <Stream: itag=\"135\" mime_type=\"video/mp4\" res=\"480p\" fps=\"30fps\" vcodec=\"avc1.4d401f\">, <Stream: itag=\"244\" mime_type=\"video/webm\" res=\"480p\" fps=\"30fps\" vcodec=\"vp9\">, <Stream: itag=\"134\" mime_type=\"video/mp4\" res=\"360p\" fps=\"30fps\" vcodec=\"avc1.4d401e\">, <Stream: itag=\"243\" mime_type=\"video/webm\" res=\"360p\" fps=\"30fps\" vcodec=\"vp9\">, <Stream: itag=\"133\" mime_type=\"video/mp4\" res=\"240p\" fps=\"30fps\" vcodec=\"avc1.4d4015\">, <Stream: itag=\"242\" mime_type=\"video/webm\" res=\"240p\" fps=\"30fps\" vcodec=\"vp9\">, <Stream: itag=\"160\" mime_type=\"video/mp4\" res=\"144p\" fps=\"30fps\" vcodec=\"avc1.4d400c\">, <Stream: itag=\"278\" mime_type=\"video/webm\" res=\"144p\" fps=\"30fps\" vcodec=\"vp9\">, <Stream: itag=\"140\" mime_type=\"audio/mp4\" abr=\"128kbps\" acodec=\"mp4a.40.2\">, <Stream: itag=\"249\" mime_type=\"audio/webm\" abr=\"50kbps\" acodec=\"opus\">, <Stream: itag=\"250\" mime_type=\"audio/webm\" abr=\"70kbps\" acodec=\"opus\">, <Stream: itag=\"251\" mime_type=\"audio/webm\" abr=\"160kbps\" acodec=\"opus\">]\n"
     ]
    }
   ],
   "source": [
    "print(yt.title)\n",
    "print(yt.streams.all())\n",
    "# print(yt.streams.filter(subtype='mp4', res='720p', progressive=True).all())"
   ]
  },
  {
   "cell_type": "code",
   "execution_count": 25,
   "metadata": {},
   "outputs": [
    {
     "data": {
      "text/plain": [
       "'download/【桃貴安親班2：健康教育課】蔡桃貴X反骨瑋哥，蔡桃貴上到崩潰，罷課啦！.mp4'"
      ]
     },
     "execution_count": 25,
     "metadata": {},
     "output_type": "execute_result"
    }
   ],
   "source": [
    "import os\n",
    "\n",
    "# 指定下載位置\n",
    "file_dir = 'download'\n",
    "# 如果資料夾不存在就先建立\n",
    "if not os.path.isdir(file_dir):  \n",
    "    os.mkdir(file_dir)\n",
    "yt.streams.filter(subtype='mp4', res='360p', progressive=True).first().download(file_dir)"
   ]
  },
  {
   "cell_type": "markdown",
   "metadata": {},
   "source": [
    "# 常用語法"
   ]
  },
  {
   "cell_type": "code",
   "execution_count": 30,
   "metadata": {},
   "outputs": [
    {
     "data": {
      "text/plain": [
       "2"
      ]
     },
     "execution_count": 30,
     "metadata": {},
     "output_type": "execute_result"
    }
   ],
   "source": [
    "# 找出字串中有包含的值\n",
    "'abcde'.find('c')"
   ]
  },
  {
   "cell_type": "code",
   "execution_count": 31,
   "metadata": {},
   "outputs": [
    {
     "name": "stdout",
     "output_type": "stream",
     "text": [
      "這是gif\n"
     ]
    }
   ],
   "source": [
    "# 判斷照片是否為.gif (也可以使用前面提到的 regex 做判斷)\n",
    "if '/yts/img/pixel-vfl3z5WfW.gif'.find('.gif') > -1:\n",
    "    print('這是gif')"
   ]
  },
  {
   "cell_type": "code",
   "execution_count": 33,
   "metadata": {},
   "outputs": [
    {
     "data": {
      "text/plain": [
       "'pixel-vfl3z5WfW.gif'"
      ]
     },
     "execution_count": 33,
     "metadata": {},
     "output_type": "execute_result"
    }
   ],
   "source": [
    "# 取出最後一部分的檔名\n",
    "link = '/yts/img/pixel-vfl3z5WfW.gif'\n",
    "link.split('/')[-1]"
   ]
  },
  {
   "cell_type": "markdown",
   "metadata": {},
   "source": [
    "# 抓取搜尋結果的內容"
   ]
  },
  {
   "cell_type": "code",
   "execution_count": 36,
   "metadata": {},
   "outputs": [],
   "source": [
    "import os\n",
    "import requests\n",
    "from bs4 import BeautifulSoup\n",
    "from pytube import YouTube"
   ]
  },
  {
   "cell_type": "code",
   "execution_count": 42,
   "metadata": {},
   "outputs": [],
   "source": [
    "query = '蔡桃貴'\n",
    "url = 'https://www.youtube.com/results?search_query=' + query\n",
    "resp = requests.get(url)\n",
    "soup = BeautifulSoup(resp.text, 'lxml')"
   ]
  },
  {
   "cell_type": "code",
   "execution_count": 41,
   "metadata": {},
   "outputs": [
    {
     "name": "stdout",
     "output_type": "stream",
     "text": [
      "title =  【桃貴安親班#2：健康教育課】蔡桃貴X反骨瑋哥，蔡桃貴上到崩潰，罷課啦！\n",
      "url =  https://www.youtube.com/watch?v=ZHHK3y49FI0\n",
      "img =  https://i.ytimg.com/vi/ZHHK3y49FI0/hqdefault.jpg\n",
      "====\n",
      "title =  【蔡桃貴】自己爬上床喝捏捏睡覺！真的長大了！(1Y3M30D)\n",
      "url =  https://www.youtube.com/watch?v=IPfIJcAAsmk\n",
      "img =  https://i.ytimg.com/vi/IPfIJcAAsmk/hqdefault.jpg\n",
      "====\n",
      "title =  【環島挑戰號#6】蔡桃貴X蔡阿嘎X妞妞TV X 彼得爸與蘇珊媽：台中100人寶寶爬行大賽！\n",
      "url =  https://www.youtube.com/watch?v=u7-yu2yWxmk\n",
      "img =  https://i.ytimg.com/vi/u7-yu2yWxmk/hqdefault.jpg\n",
      "====\n",
      "title =  教你成為獨立自主的Youtuber，反骨幼幼班上課囉!feat.蔡桃貴 蔡阿嘎│WACKYBOYS│反骨男孩│\n",
      "url =  https://www.youtube.com/watch?v=izX4P5y0wQo\n",
      "img =  https://i.ytimg.com/vi/izX4P5y0wQo/hqdefault.jpg\n",
      "====\n",
      "title =  【票選】蔡桃貴弟(妹)的外號，由你決定！蔡波能、蔡單、蔡奇亞、蔡桃湯？【蔡阿嘎 二伯's 二寶日記】\n",
      "url =  https://www.youtube.com/watch?v=Xc1GnL_CmNg\n",
      "img =  https://i.ytimg.com/vi/Xc1GnL_CmNg/hqdefault.jpg\n",
      "====\n",
      "title =  【蔡桃貴成長日記#40】一歲後打針，哭到大崩潰啦！ 前一秒還很興奮....\n",
      "url =  https://www.youtube.com/watch?v=YSWx6YBlIAA\n",
      "img =  https://i.ytimg.com/vi/YSWx6YBlIAA/hqdefault.jpg\n",
      "====\n",
      "title =  【蔡桃貴成長日記#33】1歲就超會講話！簡直神童啊！\n",
      "url =  https://www.youtube.com/watch?v=CTymmkQ2wps\n",
      "img =  https://i.ytimg.com/vi/CTymmkQ2wps/hqdefault.jpg\n",
      "====\n",
      "title =  【蔡阿嘎新手爸媽日記#47】明星臉照片考驗，蔡桃貴會叫山下智久爸爸嗎？\n",
      "url =  https://www.youtube.com/watch?v=e0ltku7mLvo\n",
      "img =  https://i.ytimg.com/vi/e0ltku7mLvo/hqdefault.jpg\n",
      "====\n",
      "title =  【蔡桃貴】超可愛接龍大師，蔡阿嘎說「桃」自己就接「貴」！(1Y3M13D)\n",
      "url =  https://www.youtube.com/watch?v=1LsyEp0uQ5w\n",
      "img =  https://i.ytimg.com/vi/1LsyEp0uQ5w/hqdefault.jpg\n",
      "====\n",
      "title =  【蔡桃貴成長日記#34】被蔡英文總統召見，去總統官邸撒野啦！蔡阿嘎在一旁嚇死！\n",
      "url =  https://www.youtube.com/watch?v=RAZLMuaxjUI\n",
      "img =  https://i.ytimg.com/vi/RAZLMuaxjUI/hqdefault.jpg\n",
      "====\n",
      "title =  【蔡桃貴】哇！哇！哇！看到什麼都好驚訝的浮誇大師！(1Y3M21D)\n",
      "url =  https://www.youtube.com/watch?v=E8Hec5hZyBY\n",
      "img =  https://i.ytimg.com/vi/E8Hec5hZyBY/hqdefault.jpg\n",
      "====\n",
      "title =  【蔡桃貴成長日記#36】第一次坐飛機就 挑戰14小時，有坐到崩潰嗎？\n",
      "url =  https://www.youtube.com/watch?v=mrsCCJ3ddwE\n",
      "img =  https://i.ytimg.com/vi/mrsCCJ3ddwE/hqdefault.jpg\n",
      "====\n",
      "title =  【彩蛋蔡桃貴】YouTuber們的童年照大猜謎！大家看到蔡桃貴的反應是？(蔡阿嘎的懷舊星期五)\n",
      "url =  https://www.youtube.com/watch?v=-cU-Hv8Zf5I\n",
      "img =  https://i.ytimg.com/vi/-cU-Hv8Zf5I/hqdefault.jpg\n",
      "====\n",
      "title =  【撿便宜大師#4】全台灣10元超強美食！10元可以吃麵.魯肉飯.雞排.4個紅豆餅！【蔡阿嘎Life】\n",
      "url =  https://www.youtube.com/watch?v=7NEKjaVmgb8\n",
      "img =  https://i.ytimg.com/vi/7NEKjaVmgb8/hqdefault.jpg\n",
      "====\n",
      "title =  育嬰好物Ep52｜媽媽終於不用抱著兒子逛街拉｜拉桿箱幼兒隨行椅｜彼得爸與蘇珊媽\n",
      "url =  https://www.youtube.com/watch?v=ryQ1bcfjDs4\n",
      "img =  https://i.ytimg.com/vi/ryQ1bcfjDs4/hqdefault.jpg\n",
      "====\n",
      "title =  【蔡阿嘎新手爸媽日記#45】開箱蔡桃貴行李箱！嬰兒出國都帶什麼？\n",
      "url =  https://www.youtube.com/watch?v=q6-0a11sCas\n",
      "img =  https://i.ytimg.com/vi/q6-0a11sCas/hqdefault.jpg\n",
      "====\n",
      "title =  彼得爸與蘇珊媽育兒日記Ep131｜兩兄弟打針反差也太大｜彼得爸與蘇珊媽\n",
      "url =  https://www.youtube.com/watch?v=157vRIWqYug\n",
      "img =  https://i.ytimg.com/vi/157vRIWqYug/hqdefault.jpg\n",
      "====\n",
      "title =  一日桃貴保母挑戰! 完全沒有被滴妹打動的辣個男人!?【真滴想看 EP.3】♥ 滴妹\n",
      "url =  https://www.youtube.com/watch?v=yL1MM66Gjyk\n",
      "img =  https://i.ytimg.com/vi/yL1MM66Gjyk/hqdefault.jpg\n",
      "====\n",
      "title =  【大蛇丸】吃爆特級豪華海鮮義大利麵！直接翻起來～\n",
      "url =  https://www.youtube.com/watch?v=PyKdy75tX_g\n",
      "img =  https://i.ytimg.com/vi/PyKdy75tX_g/hqdefault.jpg\n",
      "====\n",
      "title =  【開箱】神奇的盆栽澆水後會發生什麼事?[NyoNyoTV妞妞TV]\n",
      "url =  https://www.youtube.com/watch?v=6PlD2zCvgtM\n",
      "img =  https://i.ytimg.com/vi/6PlD2zCvgtM/hqdefault.jpg\n",
      "====\n",
      "title =  【蔡桃貴成長日記#29】挑食大作戰！試吃五大魔王！(feat.苦瓜.青椒.茄子.山藥.芥藍菜)\n",
      "url =  https://www.youtube.com/watch?v=qkKSFt0x_0Q\n",
      "img =  https://i.ytimg.com/vi/qkKSFt0x_0Q/hqdefault.jpg\n",
      "====\n",
      "title =  【蔡桃貴】姑姑的照片好恐怖，是「鬼」！(1Y3M27D)\n",
      "url =  https://www.youtube.com/watch?v=8g_cVtkaySI\n",
      "img =  https://i.ytimg.com/vi/8g_cVtkaySI/hqdefault.jpg\n",
      "====\n",
      "title =  【蔡桃貴成長日記#38】美國行Vlog，連外國人都被萌翻！\n",
      "url =  https://www.youtube.com/watch?v=XCwEPTzmLfU\n",
      "img =  https://i.ytimg.com/vi/XCwEPTzmLfU/hqdefault.jpg\n",
      "====\n",
      "title =  你沒看過的蔡桃貴！超萌超可愛蛤！蔡阿嘎真的是很棒的爸爸～【當掌聲響起精選】\n",
      "url =  https://www.youtube.com/watch?v=Ch25AOC-cIA\n",
      "img =  https://i.ytimg.com/vi/Ch25AOC-cIA/hqdefault.jpg\n",
      "====\n",
      "title =  【蔡桃貴100份桌曆免費送】歡慶IG突破100萬粉絲！蔡阿嘎要來送2020年桌曆啦！【蔡阿嘎】\n",
      "url =  https://www.youtube.com/watch?v=KrgICIxbNjM\n",
      "img =  https://i.ytimg.com/vi/KrgICIxbNjM/hqdefault.jpg\n",
      "====\n",
      "title =  【桃貴安親班#1：英文課】蔡桃貴X阿滴X滴妹，有辦法學會一個英文單字嗎？\n",
      "url =  https://www.youtube.com/watch?v=oHlII0GsxSw\n",
      "img =  https://i.ytimg.com/vi/oHlII0GsxSw/hqdefault.jpg\n",
      "====\n",
      "title =  【蔡桃貴成長日記#39】萬聖節小丑裝vs恐龍裝！哪一件比較可愛？\n",
      "url =  https://www.youtube.com/watch?v=mWR6xfOb5pE\n",
      "img =  https://i.ytimg.com/vi/mWR6xfOb5pE/hqdefault.jpg\n",
      "====\n",
      "title =  蔡桃貴預言：是弟弟還是妹妹？大家一起猜猜看！【蔡阿嘎 二伯's 二寶日記】\n",
      "url =  https://www.youtube.com/watch?v=U-7HcjgrrwI\n",
      "img =  https://i.ytimg.com/vi/U-7HcjgrrwI/hqdefault.jpg\n",
      "====\n",
      "title =  【蔡阿嘎新手爸媽日記#20】蔡桃貴誕生啦！感人生產過程全紀錄！\n",
      "url =  https://www.youtube.com/watch?v=wa-qtSN2x9g\n",
      "img =  https://i.ytimg.com/vi/wa-qtSN2x9g/hqdefault.jpg\n",
      "====\n"
     ]
    }
   ],
   "source": [
    "hostname = 'https://www.youtube.com'\n",
    "file_dir = 'download'\n",
    "images_dir = file_dir + '/images'  #從放檔案的資料夾\n",
    "video_dir = file_dir + '/video'  #從放檔案的資料夾\n",
    "\n",
    "for item in soup.select('.yt-lockup-video'):\n",
    "    title = item.select('.yt-lockup-title a')[0].text\n",
    "    pathname = item.select('.yt-lockup-title a')[0]['href']\n",
    "    img_element = item.select('.yt-thumb-simple img')[0]\n",
    "    \n",
    "    # 有些網址放在src，有些在data-thumb裡面\n",
    "    if img_element['src'] != '/yts/img/pixel-vfl3z5WfW.gif':\n",
    "        img = img_element['src'].split('?')[0]\n",
    "    else:\n",
    "        img = img_element['data-thumb'].split('?')[0]\n",
    "        \n",
    "    filename = title + '.jpg' # 下載的照片名稱\n",
    "    url = hostname + pathname # 影片的網址\n",
    "    \n",
    "    # 如果資料夾不存在就先建立\n",
    "    if not os.path.isdir(file_dir):  \n",
    "        os.mkdir(file_dir)\n",
    "    if not os.path.isdir(images_dir):\n",
    "        os.mkdir(images_dir)\n",
    "    if not os.path.isdir(video_dir):\n",
    "        os.mkdir(video_dir)\n",
    "\n",
    "    # 下載圖片\n",
    "    r = requests.get(img)\n",
    "    with open(os.path.join(images_dir, filename), 'wb') as f:\n",
    "        f.write(r.content) \n",
    "    \n",
    "    # 下載影片\n",
    "    yt = YouTube(url)\n",
    "    yt.streams.filter(subtype='mp4', res='360p', progressive=True).first().download(video_dir)  #下載mp4,360p影片\n",
    "    \n",
    "    print('title = ', title)\n",
    "    print('url = ', url)\n",
    "    print('img = ', img)\n",
    "    print('====')"
   ]
  },
  {
   "cell_type": "markdown",
   "metadata": {},
   "source": [
    "# 作業\n",
    "- 抓出youtube清單列表影片\n",
    "- 抓取發布時間與觀看次數"
   ]
  },
  {
   "cell_type": "code",
   "execution_count": null,
   "metadata": {},
   "outputs": [],
   "source": []
  }
 ],
 "metadata": {
  "kernelspec": {
   "display_name": "Python 3",
   "language": "python",
   "name": "python3"
  },
  "language_info": {
   "codemirror_mode": {
    "name": "ipython",
    "version": 3
   },
   "file_extension": ".py",
   "mimetype": "text/x-python",
   "name": "python",
   "nbconvert_exporter": "python",
   "pygments_lexer": "ipython3",
   "version": "3.7.3"
  }
 },
 "nbformat": 4,
 "nbformat_minor": 2
}
